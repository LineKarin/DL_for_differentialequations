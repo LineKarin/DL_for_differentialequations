{
 "cells": [
  {
   "cell_type": "code",
   "execution_count": 5,
   "metadata": {},
   "outputs": [],
   "source": [
    "import tensorflow as tf\n",
    "import numpy as np\n",
    "import matplotlib.pyplot as plt"
   ]
  },
  {
   "cell_type": "code",
   "execution_count": 51,
   "metadata": {},
   "outputs": [],
   "source": [
    "# Get data\n",
    "data_train = np.loadtxt(\"TrainData.csv\", delimiter=\",\")\n",
    "data = tf.convert_to_tensor(data_train,dtype=tf.float32)\n",
    "\n",
    "t = tf.constant([0, 1/3, 2/3, 1])\n",
    "\n",
    "#slices = tf.data.Dataset.from_tensor_slices(data_train)\n",
    "#next_item = slices.make_one_shot_iterator().get_next()"
   ]
  },
  {
   "cell_type": "code",
   "execution_count": 52,
   "metadata": {},
   "outputs": [
    {
     "name": "stdout",
     "output_type": "stream",
     "text": [
      "Tensor(\"Const_4:0\", shape=(8, 10), dtype=float32)\n",
      "Tensor(\"Const_5:0\", shape=(4,), dtype=float32)\n",
      "[[1]\n",
      " [2]\n",
      " [3]\n",
      " [4]]\n",
      "[[1 3]\n",
      " [2 4]]\n",
      "[[ 5 11]\n",
      " [11 25]]\n"
     ]
    }
   ],
   "source": [
    "print(data)\n",
    "print(t)\n",
    "\n",
    "x = np.matrix([[1], [2], [3],[4]])\n",
    "print(x)\n",
    "x = np.reshape(x,(2,2),order='F')\n",
    "print(x)\n",
    "print(np.transpose(x)*x)"
   ]
  },
  {
   "cell_type": "code",
   "execution_count": 148,
   "metadata": {},
   "outputs": [],
   "source": [
    "def BDF2(U,dt,g,c):\n",
    "    C = [[1+g, -dt],[np.power(c,2)*dt, 1+g]]\n",
    "    Un = np.matmul(np.linalg.inv(C),((1+2*g)*U[:,1]-g*U[:,0]))\n",
    "    Un = Un\n",
    "    return Un\n",
    "\n",
    "def evalU(Umat,dt,g,c,I):\n",
    "    Us = np.zeros((2,I))\n",
    "    for i in range(0,I):\n",
    "        Um = np.reshape(Umat[range(0,4),i],(2,2),order='F')\n",
    "        Us[:,i] = BDF2(Um,dt,g,c)\n",
    "            \n",
    "    Umat = np.vstack((Umat,Us))    \n",
    "    return Umat\n",
    "\n",
    "def Loss(pred,true):\n",
    "    e = pred-true\n",
    "    return (1/2)*np.transpose(e)*e\n",
    "    "
   ]
  },
  {
   "cell_type": "code",
   "execution_count": 149,
   "metadata": {},
   "outputs": [
    {
     "name": "stdout",
     "output_type": "stream",
     "text": [
      "[ 0.35620588 -0.27570353]\n"
     ]
    }
   ],
   "source": [
    "dt = 1/3\n",
    "g=0.5\n",
    "c=1\n",
    "Um = np.reshape(data_train[range(0,4),0],(2,2),order='F')\n",
    "\n",
    "Us = BDF2(Um,dt,g,c)\n",
    "print(Us)"
   ]
  },
  {
   "cell_type": "code",
   "execution_count": 161,
   "metadata": {},
   "outputs": [
    {
     "name": "stdout",
     "output_type": "stream",
     "text": [
      "[[ 0.45054     0.083821    0.22898     0.91334     0.15238     0.82582\n",
      "   0.53834     0.99613     0.078176    0.44268   ]\n",
      " [ 0.          0.          0.          0.          0.          0.\n",
      "   0.          0.          0.          0.        ]\n",
      " [ 0.42574     0.079208    0.21637     0.86306     0.14399     0.78036\n",
      "   0.50871     0.9413      0.073873    0.41831   ]\n",
      " [-0.14741    -0.027426   -0.07492    -0.29884    -0.049857   -0.2702\n",
      "  -0.17614    -0.32593    -0.025579   -0.14484   ]\n",
      " [ 0.35620588  0.06627145  0.18102847  0.72209576  0.12047167  0.65290518\n",
      "   0.42562518  0.78755965  0.06180748  0.34998776]\n",
      " [-0.27570353 -0.05129499 -0.14012188 -0.55891906 -0.09324748 -0.50535671\n",
      "  -0.32943671 -0.60958659 -0.04784033 -0.27089506]]\n"
     ]
    }
   ],
   "source": [
    "dt = 1/3\n",
    "g=0.5\n",
    "c=1\n",
    "I=10\n",
    "Us = evalU(data_train[range(0,4),:],dt,g,c,I)\n",
    "print(Us)"
   ]
  },
  {
   "cell_type": "code",
   "execution_count": 162,
   "metadata": {},
   "outputs": [
    {
     "name": "stdout",
     "output_type": "stream",
     "text": [
      "(10,)\n",
      "(10,)\n",
      "[-0.00213588 -0.00039745 -0.00107847 -0.00431576 -0.00072167 -0.00390518\n",
      " -0.00254518 -0.00470965 -0.00037048 -0.00208776]\n",
      "3.671740521342551e-05\n"
     ]
    }
   ],
   "source": [
    "Utrue = data_train[4,:]\n",
    "Upred = Us[4,:]\n",
    "error = Utrue-Upred\n",
    "loss = (1/2)*np.dot(np.transpose(error),error)\n",
    "print(Utrue.shape)\n",
    "print(Upred.shape)\n",
    "print(Utrue-Upred)\n",
    "print(loss)"
   ]
  },
  {
   "cell_type": "code",
   "execution_count": null,
   "metadata": {
    "collapsed": true
   },
   "outputs": [],
   "source": [
    "plt.plot(t,data,'r.')\n",
    "plt.title('Using ANN as a precondtitioner')\n",
    "plt.xlabel('Iterations')\n",
    "plt.ylabel('||e||_2')\n",
    "#plt.legend(labels=['M_train=100','M_train=50','M_train=20','M_train=10','M_train=5'],loc='best')\n",
    "#plt.savefig('convergenceReg.eps', format='eps', dpi=1000)\n",
    "plt.show()"
   ]
  }
 ],
 "metadata": {
  "kernelspec": {
   "display_name": "Python 3",
   "language": "python",
   "name": "python3"
  },
  "language_info": {
   "codemirror_mode": {
    "name": "ipython",
    "version": 3
   },
   "file_extension": ".py",
   "mimetype": "text/x-python",
   "name": "python",
   "nbconvert_exporter": "python",
   "pygments_lexer": "ipython3",
   "version": "3.5.3"
  }
 },
 "nbformat": 4,
 "nbformat_minor": 2
}
